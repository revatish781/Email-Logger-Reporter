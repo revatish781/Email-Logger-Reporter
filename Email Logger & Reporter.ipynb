{
 "cells": [
  {
   "cell_type": "code",
   "execution_count": 1,
   "id": "c3d68169-1599-4328-bbf5-9f474c351fa2",
   "metadata": {},
   "outputs": [
    {
     "name": "stdout",
     "output_type": "stream",
     "text": [
      "Synthetic email logs exported to 'synthetic_email_logs.csv'\n",
      "Status Counts:\n",
      "Status\n",
      "SENT      249\n",
      "FAILED     51\n",
      "Name: count, dtype: int64\n",
      "Top Failed Senders:\n",
      "Sender\n",
      "alice@example.com    16\n",
      "bob@example.com      18\n",
      "carol@example.com    17\n",
      "dtype: int64\n"
     ]
    },
    {
     "data": {
      "image/png": "[encoded data removed]",
      "text/plain": [
       "<Figure size 600x400 with 1 Axes>"
      ]
     },
     "metadata": {},
     "output_type": "display_data"
    }
   ],
   "source": [
    "\n",
    "import pandas as pd\n",
    "import random\n",
    "from datetime import datetime, timedelta\n",
    "import matplotlib.pyplot as plt\n",
    "\n",
    "\n",
    "senders = [\"alice@example.com\", \"bob@example.com\", \"carol@example.com\"]\n",
    "recipients = [\"user1@example.com\", \"user2@example.com\", \"user3@example.com\"]\n",
    "statuses = [\"SENT\", \"FAILED\"]\n",
    "\n",
    "data = []\n",
    "start_date = datetime(2025, 8, 1)\n",
    "\n",
    "for i in range(300):\n",
    "    sender = random.choice(senders)\n",
    "    recipient = random.choice(recipients)\n",
    "    subject = f\"Synthetic Email {i}\"\n",
    "    status = random.choices(statuses, weights=[0.8, 0.2])[0]\n",
    "    timestamp = start_date + timedelta(days=random.randint(0,21), hours=random.randint(0,23), minutes=random.randint(0,59))\n",
    "    data.append([timestamp, sender, recipient, subject, status])\n",
    "\n",
    "df = pd.DataFrame(data, columns=[\"Timestamp\", \"Sender\", \"Recipient\", \"Subject\", \"Status\"])\n",
    "df.to_csv(\"synthetic_email_logs.csv\", index=False)\n",
    "print(\"Synthetic email logs exported to 'synthetic_email_logs.csv'\")\n",
    "\n",
    "\n",
    "status_counts = df['Status'].value_counts()\n",
    "top_senders = df[df['Status']=='FAILED'].groupby('Sender').size()\n",
    "\n",
    "print(\"Status Counts:\")\n",
    "print(status_counts)\n",
    "print(\"Top Failed Senders:\")\n",
    "print(top_senders)\n",
    "\n",
    "\n",
    "plt.figure(figsize=(6,4))\n",
    "status_counts.plot(kind='bar', color=['green','red'])\n",
    "plt.title(\"Email Status Counts\")\n",
    "plt.ylabel(\"Count\")\n",
    "plt.show()\n"
   ]
  },
  {
   "cell_type": "code",
   "execution_count": null,
   "id": "870dd92c-801c-4ebd-8a2b-b95f754908e3",
   "metadata": {},
   "outputs": [],
   "source": []
  }
 ],
 "metadata": {
  "kernelspec": {
   "display_name": "Python 3 (ipykernel)",
   "language": "python",
   "name": "python3"
  },
  "language_info": {
   "codemirror_mode": {
    "name": "ipython",
    "version": 3
   },
   "file_extension": ".py",
   "mimetype": "text/x-python",
   "name": "python",
   "nbconvert_exporter": "python",
   "pygments_lexer": "ipython3",
   "version": "3.12.0"
  }
 },
 "nbformat": 4,
 "nbformat_minor": 5
}
